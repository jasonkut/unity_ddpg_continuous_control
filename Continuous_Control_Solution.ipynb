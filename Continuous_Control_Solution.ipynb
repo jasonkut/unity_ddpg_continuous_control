{
 "cells": [
  {
   "cell_type": "markdown",
   "metadata": {},
   "source": [
    "# Continuous Control\n",
    "\n",
    "---\n",
    "\n",
    "You are welcome to use this coding environment to train your agent for the project.  Follow the instructions below to get started!\n",
    "\n",
    "### 1. Start the Environment\n",
    "\n",
    "Run the next code cell to install a few packages.  This line will take a few minutes to run!"
   ]
  },
  {
   "cell_type": "code",
   "execution_count": 1,
   "metadata": {},
   "outputs": [
    {
     "name": "stdout",
     "output_type": "stream",
     "text": [
      "done\n"
     ]
    }
   ],
   "source": [
    "!pip -q install ./python\n",
    "print(\"done\")"
   ]
  },
  {
   "cell_type": "markdown",
   "metadata": {},
   "source": [
    "The environments corresponding to both versions of the environment are already saved in the Workspace and can be accessed at the file paths provided below.  \n",
    "\n",
    "Please select one of the two options below for loading the environment."
   ]
  },
  {
   "cell_type": "code",
   "execution_count": 2,
   "metadata": {},
   "outputs": [
    {
     "name": "stderr",
     "output_type": "stream",
     "text": [
      "INFO:unityagents:\n",
      "'Academy' started successfully!\n",
      "Unity Academy name: Academy\n",
      "        Number of Brains: 1\n",
      "        Number of External Brains : 1\n",
      "        Lesson number : 0\n",
      "        Reset Parameters :\n",
      "\t\tgoal_speed -> 1.0\n",
      "\t\tgoal_size -> 5.0\n",
      "Unity brain name: ReacherBrain\n",
      "        Number of Visual Observations (per agent): 0\n",
      "        Vector Observation space type: continuous\n",
      "        Vector Observation space size (per agent): 33\n",
      "        Number of stacked Vector Observation: 1\n",
      "        Vector Action space type: continuous\n",
      "        Vector Action space size (per agent): 4\n",
      "        Vector Action descriptions: , , , \n"
     ]
    }
   ],
   "source": [
    "from unityagents import UnityEnvironment\n",
    "import numpy as np\n",
    "\n",
    "# select this option to load version 1 (with a single agent) of the environment\n",
    "#env = UnityEnvironment(file_name='/data/Reacher_One_Linux_NoVis/Reacher_One_Linux_NoVis.x86_64')\n",
    "\n",
    "# select this option to load version 2 (with 20 agents) of the environment\n",
    "env = UnityEnvironment(file_name='/data/Reacher_Linux_NoVis/Reacher.x86_64')"
   ]
  },
  {
   "cell_type": "markdown",
   "metadata": {},
   "source": [
    "Environments contain **_brains_** which are responsible for deciding the actions of their associated agents. Here we check for the first brain available, and set it as the default brain we will be controlling from Python."
   ]
  },
  {
   "cell_type": "code",
   "execution_count": 3,
   "metadata": {},
   "outputs": [],
   "source": [
    "# get the default brain\n",
    "brain_name = env.brain_names[0]\n",
    "brain = env.brains[brain_name]"
   ]
  },
  {
   "cell_type": "markdown",
   "metadata": {},
   "source": [
    "### 2. Examine the State and Action Spaces\n",
    "\n",
    "Run the code cell below to print some information about the environment."
   ]
  },
  {
   "cell_type": "code",
   "execution_count": 5,
   "metadata": {
    "scrolled": true
   },
   "outputs": [
    {
     "name": "stdout",
     "output_type": "stream",
     "text": [
      "Number of agents: 20\n",
      "Size of each action: 4\n",
      "There are 20 agents. Each observes a state with length: 33\n",
      "The state for the first agent looks like: [  0.00000000e+00  -4.00000000e+00   0.00000000e+00   1.00000000e+00\n",
      "  -0.00000000e+00  -0.00000000e+00  -4.37113883e-08   0.00000000e+00\n",
      "   0.00000000e+00   0.00000000e+00   0.00000000e+00   0.00000000e+00\n",
      "   0.00000000e+00   0.00000000e+00  -1.00000000e+01   0.00000000e+00\n",
      "   1.00000000e+00  -0.00000000e+00  -0.00000000e+00  -4.37113883e-08\n",
      "   0.00000000e+00   0.00000000e+00   0.00000000e+00   0.00000000e+00\n",
      "   0.00000000e+00   0.00000000e+00   7.90150833e+00  -1.00000000e+00\n",
      "   1.25147629e+00   0.00000000e+00   1.00000000e+00   0.00000000e+00\n",
      "  -5.22214413e-01]\n"
     ]
    }
   ],
   "source": [
    "# reset the environment\n",
    "env_info = env.reset(train_mode=True)[brain_name]\n",
    "\n",
    "# number of agents\n",
    "num_agents = len(env_info.agents)\n",
    "print('Number of agents:', num_agents)\n",
    "\n",
    "# size of each action\n",
    "action_size = brain.vector_action_space_size\n",
    "print('Size of each action:', action_size)\n",
    "\n",
    "# examine the state space \n",
    "states = env_info.vector_observations\n",
    "state_size = states.shape[1]\n",
    "print('There are {} agents. Each observes a state with length: {}'.format(states.shape[0], state_size))\n",
    "print('The state for the first agent looks like:', states[0])"
   ]
  },
  {
   "cell_type": "markdown",
   "metadata": {},
   "source": [
    "### 4. Solution using a DDPG agent\n",
    "\n",
    "Now it's your turn to train your own agent to solve the environment!  A few **important notes**:\n",
    "- When training the environment, set `train_mode=True`, so that the line for resetting the environment looks like the following:\n",
    "```python\n",
    "env_info = env.reset(train_mode=True)[brain_name]\n",
    "```\n",
    "- To structure your work, you're welcome to work directly in this Jupyter notebook, or you might like to start over with a new file!  You can see the list of files in the workspace by clicking on **_Jupyter_** in the top left corner of the notebook.\n",
    "- In this coding environment, you will not be able to watch the agents while they are training.  However, **_after training the agents_**, you can download the saved model weights to watch the agents on your own machine! "
   ]
  },
  {
   "cell_type": "code",
   "execution_count": 6,
   "metadata": {
    "scrolled": false
   },
   "outputs": [
    {
     "name": "stdout",
     "output_type": "stream",
     "text": [
      "<ddpg_agent.Agent object at 0x7f3e1d739fd0>\n",
      "Episode 1\tMoving Avg. Score: 0.41\tMean: 0.41\tMin: 0.09\tMax: 0.99\tDur.: 34.76\n",
      "Episode 2\tMoving Avg. Score: 0.51\tMean: 0.61\tMin: 0.09\tMax: 1.54\tDur.: 37.44\n",
      "Episode 3\tMoving Avg. Score: 0.61\tMean: 0.80\tMin: 0.07\tMax: 1.92\tDur.: 38.53\n",
      "Episode 4\tMoving Avg. Score: 0.64\tMean: 0.73\tMin: 0.00\tMax: 1.70\tDur.: 38.88\n",
      "Episode 5\tMoving Avg. Score: 0.74\tMean: 1.11\tMin: 0.00\tMax: 2.47\tDur.: 39.08\n",
      "Episode 6\tMoving Avg. Score: 0.86\tMean: 1.48\tMin: 0.14\tMax: 3.89\tDur.: 40.02\n",
      "Episode 7\tMoving Avg. Score: 0.95\tMean: 1.50\tMin: 0.49\tMax: 2.53\tDur.: 41.12\n",
      "Episode 8\tMoving Avg. Score: 1.12\tMean: 2.33\tMin: 0.45\tMax: 5.74\tDur.: 40.70\n",
      "Episode 9\tMoving Avg. Score: 1.29\tMean: 2.61\tMin: 1.24\tMax: 5.05\tDur.: 42.57\n",
      "Episode 10\tMoving Avg. Score: 1.50\tMean: 3.37\tMin: 1.41\tMax: 7.44\tDur.: 42.69\n",
      "Episode 11\tMoving Avg. Score: 1.78\tMean: 4.65\tMin: 1.94\tMax: 13.23\tDur.: 44.57\n",
      "Episode 12\tMoving Avg. Score: 2.09\tMean: 5.42\tMin: 2.27\tMax: 9.99\tDur.: 44.95\n",
      "Episode 13\tMoving Avg. Score: 2.43\tMean: 6.52\tMin: 2.50\tMax: 12.89\tDur.: 45.52\n",
      "Episode 14\tMoving Avg. Score: 2.89\tMean: 8.84\tMin: 3.26\tMax: 16.01\tDur.: 48.03\n",
      "Episode 15\tMoving Avg. Score: 3.40\tMean: 10.62\tMin: 4.74\tMax: 19.03\tDur.: 49.08\n",
      "Episode 16\tMoving Avg. Score: 3.99\tMean: 12.79\tMin: 3.55\tMax: 26.08\tDur.: 51.01\n",
      "Episode 17\tMoving Avg. Score: 4.57\tMean: 13.83\tMin: 6.59\tMax: 21.47\tDur.: 53.16\n",
      "Episode 18\tMoving Avg. Score: 5.26\tMean: 17.01\tMin: 11.28\tMax: 20.61\tDur.: 54.34\n",
      "Episode 19\tMoving Avg. Score: 5.88\tMean: 16.97\tMin: 7.76\tMax: 24.65\tDur.: 55.75\n",
      "Episode 20\tMoving Avg. Score: 6.60\tMean: 20.37\tMin: 14.80\tMax: 25.00\tDur.: 57.27\n",
      "Episode 21\tMoving Avg. Score: 7.23\tMean: 19.76\tMin: 15.60\tMax: 23.48\tDur.: 59.42\n",
      "Episode 22\tMoving Avg. Score: 7.90\tMean: 22.03\tMin: 17.82\tMax: 27.18\tDur.: 61.03\n",
      "Episode 23\tMoving Avg. Score: 8.57\tMean: 23.34\tMin: 13.59\tMax: 37.13\tDur.: 63.67\n",
      "Episode 24\tMoving Avg. Score: 9.23\tMean: 24.35\tMin: 20.04\tMax: 39.47\tDur.: 65.17\n",
      "Episode 25\tMoving Avg. Score: 9.83\tMean: 24.25\tMin: 17.46\tMax: 31.15\tDur.: 65.70\n",
      "Episode 26\tMoving Avg. Score: 10.42\tMean: 25.12\tMin: 19.30\tMax: 29.87\tDur.: 67.28\n",
      "Episode 27\tMoving Avg. Score: 10.98\tMean: 25.67\tMin: 21.26\tMax: 29.80\tDur.: 68.88\n",
      "Episode 28\tMoving Avg. Score: 11.52\tMean: 26.07\tMin: 21.01\tMax: 30.93\tDur.: 71.45\n",
      "Episode 29\tMoving Avg. Score: 12.07\tMean: 27.34\tMin: 22.01\tMax: 38.47\tDur.: 73.49\n",
      "Episode 30\tMoving Avg. Score: 12.58\tMean: 27.55\tMin: 21.79\tMax: 31.79\tDur.: 75.52\n",
      "Episode 31\tMoving Avg. Score: 13.06\tMean: 27.37\tMin: 20.71\tMax: 31.84\tDur.: 77.45\n",
      "Episode 32\tMoving Avg. Score: 13.59\tMean: 30.14\tMin: 26.22\tMax: 34.14\tDur.: 79.64\n",
      "Episode 33\tMoving Avg. Score: 14.08\tMean: 29.49\tMin: 21.03\tMax: 37.78\tDur.: 80.31\n",
      "Episode 34\tMoving Avg. Score: 14.53\tMean: 29.37\tMin: 22.85\tMax: 36.28\tDur.: 83.30\n",
      "Episode 35\tMoving Avg. Score: 15.00\tMean: 31.05\tMin: 26.38\tMax: 35.26\tDur.: 85.99\n",
      "Episode 36\tMoving Avg. Score: 15.40\tMean: 29.53\tMin: 17.93\tMax: 37.64\tDur.: 86.48\n",
      "Episode 37\tMoving Avg. Score: 15.83\tMean: 31.27\tMin: 22.38\tMax: 39.44\tDur.: 89.04\n",
      "Episode 38\tMoving Avg. Score: 16.22\tMean: 30.68\tMin: 23.62\tMax: 36.26\tDur.: 90.73\n",
      "Episode 39\tMoving Avg. Score: 16.64\tMean: 32.69\tMin: 24.57\tMax: 36.70\tDur.: 94.30\n",
      "Episode 40\tMoving Avg. Score: 17.02\tMean: 31.57\tMin: 24.69\tMax: 37.92\tDur.: 94.52\n",
      "Episode 41\tMoving Avg. Score: 17.40\tMean: 32.76\tMin: 29.76\tMax: 35.58\tDur.: 96.69\n",
      "Episode 42\tMoving Avg. Score: 17.75\tMean: 32.17\tMin: 27.32\tMax: 38.94\tDur.: 98.64\n",
      "Episode 43\tMoving Avg. Score: 18.05\tMean: 30.68\tMin: 23.89\tMax: 34.82\tDur.: 100.54\n",
      "Episode 44\tMoving Avg. Score: 18.37\tMean: 32.06\tMin: 29.01\tMax: 35.73\tDur.: 102.40\n",
      "Episode 45\tMoving Avg. Score: 18.65\tMean: 30.97\tMin: 25.34\tMax: 36.52\tDur.: 105.18\n",
      "Episode 46\tMoving Avg. Score: 18.97\tMean: 33.45\tMin: 29.78\tMax: 36.81\tDur.: 108.72\n",
      "Episode 47\tMoving Avg. Score: 19.26\tMean: 32.50\tMin: 27.75\tMax: 37.31\tDur.: 111.47\n",
      "Episode 48\tMoving Avg. Score: 19.50\tMean: 30.56\tMin: 25.93\tMax: 34.05\tDur.: 113.27\n",
      "Episode 49\tMoving Avg. Score: 19.70\tMean: 29.69\tMin: 25.07\tMax: 32.33\tDur.: 115.59\n",
      "Episode 50\tMoving Avg. Score: 19.98\tMean: 33.73\tMin: 29.61\tMax: 37.08\tDur.: 117.90\n",
      "Episode 51\tMoving Avg. Score: 20.22\tMean: 31.80\tMin: 27.17\tMax: 35.11\tDur.: 119.63\n",
      "Episode 52\tMoving Avg. Score: 20.46\tMean: 32.77\tMin: 29.20\tMax: 36.15\tDur.: 119.35\n",
      "Episode 53\tMoving Avg. Score: 20.70\tMean: 33.30\tMin: 27.54\tMax: 37.69\tDur.: 120.46\n",
      "Episode 54\tMoving Avg. Score: 20.90\tMean: 31.60\tMin: 27.64\tMax: 36.10\tDur.: 119.52\n",
      "Episode 55\tMoving Avg. Score: 21.13\tMean: 33.27\tMin: 27.34\tMax: 35.93\tDur.: 115.69\n",
      "Episode 56\tMoving Avg. Score: 21.36\tMean: 33.91\tMin: 30.49\tMax: 36.35\tDur.: 116.21\n",
      "Episode 57\tMoving Avg. Score: 21.58\tMean: 34.16\tMin: 31.61\tMax: 36.63\tDur.: 115.38\n",
      "Episode 58\tMoving Avg. Score: 21.79\tMean: 33.80\tMin: 27.71\tMax: 36.99\tDur.: 115.78\n",
      "Episode 59\tMoving Avg. Score: 21.98\tMean: 33.23\tMin: 28.68\tMax: 36.41\tDur.: 115.45\n",
      "Episode 60\tMoving Avg. Score: 22.18\tMean: 33.98\tMin: 28.31\tMax: 38.31\tDur.: 116.21\n",
      "Episode 61\tMoving Avg. Score: 22.39\tMean: 34.95\tMin: 30.72\tMax: 37.96\tDur.: 116.40\n",
      "Episode 62\tMoving Avg. Score: 22.60\tMean: 34.97\tMin: 32.00\tMax: 36.73\tDur.: 115.35\n",
      "Episode 63\tMoving Avg. Score: 22.79\tMean: 34.83\tMin: 30.50\tMax: 38.84\tDur.: 116.70\n",
      "Episode 64\tMoving Avg. Score: 22.97\tMean: 34.17\tMin: 28.91\tMax: 38.46\tDur.: 115.78\n",
      "Episode 65\tMoving Avg. Score: 23.16\tMean: 35.27\tMin: 30.76\tMax: 37.42\tDur.: 115.44\n",
      "Episode 66\tMoving Avg. Score: 23.34\tMean: 35.34\tMin: 30.09\tMax: 38.38\tDur.: 116.15\n",
      "Episode 67\tMoving Avg. Score: 23.54\tMean: 36.65\tMin: 33.37\tMax: 38.39\tDur.: 116.38\n",
      "Episode 68\tMoving Avg. Score: 23.73\tMean: 36.65\tMin: 33.52\tMax: 38.80\tDur.: 115.47\n",
      "Episode 69\tMoving Avg. Score: 23.92\tMean: 36.42\tMin: 32.70\tMax: 38.68\tDur.: 118.56\n",
      "Episode 70\tMoving Avg. Score: 24.11\tMean: 37.18\tMin: 34.27\tMax: 38.96\tDur.: 118.02\n",
      "Episode 71\tMoving Avg. Score: 24.29\tMean: 37.04\tMin: 33.77\tMax: 38.79\tDur.: 116.82\n",
      "Episode 72\tMoving Avg. Score: 24.46\tMean: 36.39\tMin: 32.56\tMax: 38.97\tDur.: 116.04\n",
      "Episode 73\tMoving Avg. Score: 24.63\tMean: 36.84\tMin: 34.85\tMax: 38.63\tDur.: 115.24\n",
      "Episode 74\tMoving Avg. Score: 24.81\tMean: 38.18\tMin: 35.29\tMax: 39.47\tDur.: 115.58\n",
      "Episode 75\tMoving Avg. Score: 24.98\tMean: 37.41\tMin: 34.29\tMax: 39.54\tDur.: 115.96\n",
      "Episode 76\tMoving Avg. Score: 25.13\tMean: 36.57\tMin: 33.86\tMax: 39.04\tDur.: 116.15\n",
      "Episode 77\tMoving Avg. Score: 25.30\tMean: 37.83\tMin: 35.60\tMax: 39.17\tDur.: 115.53\n",
      "Episode 78\tMoving Avg. Score: 25.44\tMean: 36.20\tMin: 33.65\tMax: 38.04\tDur.: 115.71\n",
      "Episode 79\tMoving Avg. Score: 25.59\tMean: 37.57\tMin: 35.41\tMax: 39.27\tDur.: 116.36\n",
      "Episode 80\tMoving Avg. Score: 25.74\tMean: 37.71\tMin: 34.99\tMax: 39.36\tDur.: 117.34\n",
      "Episode 81\tMoving Avg. Score: 25.88\tMean: 37.08\tMin: 32.02\tMax: 39.11\tDur.: 118.96\n",
      "Episode 82\tMoving Avg. Score: 26.01\tMean: 36.84\tMin: 34.60\tMax: 38.51\tDur.: 118.63\n",
      "Episode 83\tMoving Avg. Score: 26.15\tMean: 37.38\tMin: 33.89\tMax: 39.16\tDur.: 118.36\n",
      "Episode 84\tMoving Avg. Score: 26.27\tMean: 36.05\tMin: 30.84\tMax: 38.67\tDur.: 117.90\n",
      "Episode 85\tMoving Avg. Score: 26.39\tMean: 36.96\tMin: 34.37\tMax: 38.69\tDur.: 118.14\n",
      "Episode 86\tMoving Avg. Score: 26.53\tMean: 37.94\tMin: 36.78\tMax: 38.90\tDur.: 118.06\n",
      "Episode 87\tMoving Avg. Score: 26.65\tMean: 37.00\tMin: 33.97\tMax: 39.15\tDur.: 118.98\n",
      "Episode 88\tMoving Avg. Score: 26.78\tMean: 38.04\tMin: 35.92\tMax: 39.27\tDur.: 118.28\n",
      "Episode 89\tMoving Avg. Score: 26.91\tMean: 38.06\tMin: 36.44\tMax: 39.44\tDur.: 118.23\n",
      "Episode 90\tMoving Avg. Score: 27.02\tMean: 37.57\tMin: 35.26\tMax: 39.27\tDur.: 118.50\n",
      "Episode 91\tMoving Avg. Score: 27.13\tMean: 36.83\tMin: 35.09\tMax: 38.42\tDur.: 118.79\n",
      "Episode 92\tMoving Avg. Score: 27.25\tMean: 37.75\tMin: 36.51\tMax: 39.12\tDur.: 117.93\n",
      "Episode 93\tMoving Avg. Score: 27.37\tMean: 38.32\tMin: 36.58\tMax: 39.32\tDur.: 117.98\n",
      "Episode 94\tMoving Avg. Score: 27.48\tMean: 38.54\tMin: 34.25\tMax: 39.39\tDur.: 118.66\n",
      "Episode 95\tMoving Avg. Score: 27.60\tMean: 38.25\tMin: 36.56\tMax: 39.39\tDur.: 119.06\n",
      "Episode 96\tMoving Avg. Score: 27.71\tMean: 38.19\tMin: 35.23\tMax: 39.23\tDur.: 119.22\n",
      "Episode 97\tMoving Avg. Score: 27.81\tMean: 37.89\tMin: 35.63\tMax: 39.35\tDur.: 118.72\n",
      "Episode 98\tMoving Avg. Score: 27.91\tMean: 37.05\tMin: 34.71\tMax: 38.76\tDur.: 118.94\n",
      "Episode 99\tMoving Avg. Score: 28.01\tMean: 37.66\tMin: 35.90\tMax: 38.85\tDur.: 119.21\n",
      "Episode 100\tMoving Avg. Score: 28.11\tMean: 38.55\tMin: 36.25\tMax: 39.61\tDur.: 119.25\n",
      "Episode 101\tMoving Avg. Score: 28.48\tMean: 37.71\tMin: 34.33\tMax: 39.48\tDur.: 118.88\n",
      "Episode 102\tMoving Avg. Score: 28.87\tMean: 38.67\tMin: 36.57\tMax: 39.62\tDur.: 118.95\n",
      "Episode 103\tMoving Avg. Score: 29.24\tMean: 37.92\tMin: 35.05\tMax: 39.49\tDur.: 119.51\n",
      "Episode 104\tMoving Avg. Score: 29.61\tMean: 38.49\tMin: 36.84\tMax: 39.62\tDur.: 119.61\n",
      "Episode 105\tMoving Avg. Score: 29.98\tMean: 37.88\tMin: 33.71\tMax: 39.55\tDur.: 119.28\n",
      "Episode 106\tMoving Avg. Score: 30.34\tMean: 36.84\tMin: 34.08\tMax: 38.74\tDur.: 119.26\n",
      "Problem Solved after 106 epsisodes! Moving Average score: 30.34\n"
     ]
    }
   ],
   "source": [
    "from ddpg_agent import Agent, ReplayBuffer\n",
    "from collections import deque\n",
    "import time\n",
    "import torch\n",
    "import pandas as pd\n",
    "\n",
    "random_seed = 4\n",
    "train_mode = True\n",
    "\n",
    "agent = Agent(state_size=state_size, action_size=action_size, random_seed=random_seed)\n",
    "print(agent)\n",
    "\n",
    "def ddpg(n_episodes=500, max_t=1000, goal_score=30):\n",
    "    mean_scores_window = deque(maxlen=100)\n",
    "    learning_stats = pd.DataFrame(index=range(1, n_episodes+1), \n",
    "                                  columns=['Mean Score','Min Score','Max Score','Moving Avg. (100 eps)'])\n",
    "    learning_stats.index.name = 'Episode'\n",
    "    \n",
    "    for i_episode in range(1, n_episodes+1):\n",
    "        env_info = env.reset(train_mode=train_mode)[brain_name] \n",
    "        states = env_info.vector_observations\n",
    "        scores = np.zeros(num_agents)\n",
    "        agent.reset()\n",
    "        \n",
    "        start_time = time.time()\n",
    "        \n",
    "        for t in range(max_t):\n",
    "            actions = agent.act(states)\n",
    "            \n",
    "            env_info = env.step(actions)[brain_name]\n",
    "            next_states = env_info.vector_observations\n",
    "            rewards = env_info.rewards\n",
    "            dones = env_info.local_done\n",
    "            \n",
    "            for state, action, reward, next_state, done in zip(states, actions, rewards, next_states, dones):\n",
    "                agent.step(state, action, reward, next_state, done)\n",
    "            \n",
    "            scores += env_info.rewards\n",
    "            states = next_states\n",
    "            \n",
    "            if np.any(dones):\n",
    "                break\n",
    "    \n",
    "        learning_stats.loc[i_episode,'Mean Score'] = mean_score = np.mean(scores)\n",
    "        learning_stats.loc[i_episode,'Min Score'] = min_score = np.min(scores)\n",
    "        learning_stats.loc[i_episode,'Max Score'] = max_score = np.max(scores)\n",
    "        mean_scores_window.append(mean_score)\n",
    "        learning_stats.loc[i_episode,'Moving Avg. (100 eps)'] = moving_average_score = np.mean(mean_scores_window)\n",
    "        \n",
    "        duration = time.time() - start_time\n",
    "        \n",
    "        print('\\rEpisode {}\\tMoving Avg. Score: {:.2f}\\tMean: {:.2f}\\tMin: {:.2f}\\tMax: {:.2f}\\tDur.: {:.2f}'\n",
    "              .format(i_episode, moving_average_score, mean_score, min_score, max_score, duration))\n",
    "\n",
    "        if i_episode % 5 == 0:\n",
    "            torch.save(agent.actor_local.state_dict(), 'checkpoint_actor.pth')\n",
    "            torch.save(agent.critic_local.state_dict(), 'checkpoint_critic.pth')\n",
    "            learning_stats.to_csv('learning_stats_'+str(i_episode)+'.csv')\n",
    "            \n",
    "        if moving_average_score >= goal_score and i_episode >= 100:\n",
    "            print('Problem Solved after {} epsisodes! Moving Average score: {:.2f}'.format(i_episode, moving_average_score))\n",
    "            torch.save(agent.actor_local.state_dict(), 'checkpoint_actor.pth')\n",
    "            torch.save(agent.critic_local.state_dict(), 'checkpoint_critic.pth')\n",
    "            break\n",
    "        \n",
    "    learning_stats.dropna(inplace=True)\n",
    "    learning_stats.to_csv('learning_stats.csv')\n",
    "\n",
    "ddpg()"
   ]
  }
 ],
 "metadata": {
  "kernelspec": {
   "display_name": "Python 3",
   "language": "python",
   "name": "python3"
  },
  "language_info": {
   "codemirror_mode": {
    "name": "ipython",
    "version": 3
   },
   "file_extension": ".py",
   "mimetype": "text/x-python",
   "name": "python",
   "nbconvert_exporter": "python",
   "pygments_lexer": "ipython3",
   "version": "3.6.3"
  }
 },
 "nbformat": 4,
 "nbformat_minor": 2
}
